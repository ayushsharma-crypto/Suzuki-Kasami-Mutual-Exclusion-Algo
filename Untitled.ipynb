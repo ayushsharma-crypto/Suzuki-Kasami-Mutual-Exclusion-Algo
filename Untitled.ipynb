{
 "cells": [
  {
   "cell_type": "code",
   "execution_count": 2,
   "id": "822485a1",
   "metadata": {},
   "outputs": [],
   "source": [
    "import numpy as np\n",
    "import os\n",
    "import re"
   ]
  },
  {
   "cell_type": "code",
   "execution_count": 10,
   "id": "5a271be0",
   "metadata": {},
   "outputs": [],
   "source": [
    "folder = 'Log/'\n",
    "folder1 = 'Log1/'\n",
    "folder2 = 'Log2/'\n",
    "\n",
    "files = sorted(os.listdir(folder))\n",
    "\n",
    "def create_log(folder):\n",
    "    files = sorted(os.listdir(folder))\n",
    "    dt = {}\n",
    "    for f in files:    \n",
    "        dt[f] = None\n",
    "    \n",
    "    for f in files:\n",
    "        with open(folder+f) as f1:\n",
    "            lines = f1.readlines()\n",
    "            req = []\n",
    "            recv_token = []\n",
    "            for l in lines:\n",
    "                if 'want a token' in l:\n",
    "                    req.append(re.split(' |:',l)[:2])\n",
    "                elif 'got a token' in l:\n",
    "                    recv_token.append(re.split(' |:',l)[:2])\n",
    "                    \n",
    "            a = np.zeros((len(recv_token),2))\n",
    "            for i in range(len(recv_token)):\n",
    "                reqt = np.float64(req[i][0]) + np.float64(req[i][1])/60\n",
    "                recvt = np.float64(recv_token[i][0]) + np.float64(recv_token[i][1])/60\n",
    "                a[i] = (reqt, recvt)\n",
    "                \n",
    "            dt[f] = a\n",
    "                    \n",
    "    return dt\n",
    "    \n",
    "dt1 = create_log(folder)\n",
    "dt2 = create_log(folder1)\n",
    "dt3 = create_log(folder2)\n",
    "\n",
    "# arr = []1\n",
    "# time = {\n",
    "#     'name': None,\n",
    "#     'request-time': [],\n",
    "#     'token_recv-time': []\n",
    "# }\n"
   ]
  },
  {
   "cell_type": "code",
   "execution_count": 28,
   "id": "b3fb6f0e",
   "metadata": {},
   "outputs": [
    {
     "name": "stdout",
     "output_type": "stream",
     "text": [
      "0.02898863174638219\n",
      "0.040815998863313406\n",
      "0.04574955281986533\n"
     ]
    }
   ],
   "source": [
    "def find_mean(dt1):\n",
    "    avg = []\n",
    "    for key in dt1:\n",
    "        val = dt1[key]\n",
    "        diff = val[:,1] - val[:,0]\n",
    "        diff_n = []\n",
    "        for d in diff:\n",
    "            if d<0:\n",
    "                diff_n.append(d+60)\n",
    "            else:\n",
    "                diff_n.append(d)\n",
    "            \n",
    "        diff = np.array(diff_n).astype(np.float64)\n",
    "#         print(diff)\n",
    "        avg.append(np.mean(diff))\n",
    "\n",
    "    avg = np.array(avg)\n",
    "    avg = np.mean(avg)\n",
    "    return avg\n",
    "\n",
    "\n",
    "# Np = 3\n",
    "avg1 = find_mean(dt1)\n",
    "print(avg1/3)\n",
    "# Np = 5\n",
    "avg2 = find_mean(dt2)\n",
    "print(avg2/5)\n",
    "# Np = 8\n",
    "avg3 = find_mean(dt3)\n",
    "print(avg3/8)\n"
   ]
  },
  {
   "cell_type": "code",
   "execution_count": 29,
   "id": "bdfa564d",
   "metadata": {},
   "outputs": [
    {
     "name": "stdout",
     "output_type": "stream",
     "text": [
      "0.21666666666666146\n",
      "0.2833333333333332\n",
      "0.46666666666666856\n"
     ]
    }
   ],
   "source": [
    "def find_max(dt1):\n",
    "    avg = []\n",
    "    for key in dt1:\n",
    "        val = dt1[key]\n",
    "        diff = val[:,1] - val[:,0]\n",
    "        diff_n = []\n",
    "        for d in diff:\n",
    "            if d<0:\n",
    "                diff_n.append(d+60)\n",
    "            else:\n",
    "                diff_n.append(d)\n",
    "            \n",
    "        diff = np.array(diff_n).astype(np.float64)\n",
    "#         print(diff)\n",
    "        avg.append(np.max(diff))\n",
    "\n",
    "    avg = np.array(avg)\n",
    "    avg = np.max(avg)\n",
    "    return avg\n",
    "\n",
    "\n",
    "# Np = 3\n",
    "avg1 = find_max(dt1)\n",
    "print(avg1)\n",
    "# Np = 5\n",
    "avg2 = find_max(dt2)\n",
    "print(avg2)\n",
    "# Np = 8\n",
    "avg3 = find_max(dt3)\n",
    "print(avg3)\n"
   ]
  },
  {
   "cell_type": "code",
   "execution_count": 30,
   "id": "9a18bb2a",
   "metadata": {},
   "outputs": [
    {
     "name": "stdout",
     "output_type": "stream",
     "text": [
      "0.01666666666666572\n",
      "0.04999999999999716\n",
      "0.06666666666666643\n"
     ]
    }
   ],
   "source": [
    "def find_min(dt1):\n",
    "    avg = []\n",
    "    for key in dt1:\n",
    "        val = dt1[key]\n",
    "        diff = val[:,1] - val[:,0]\n",
    "        diff_n = []\n",
    "        for d in diff:\n",
    "            if d<0:\n",
    "                diff_n.append(d+60)\n",
    "            else:\n",
    "                diff_n.append(d)\n",
    "            \n",
    "        diff = np.array(diff_n).astype(np.float64)\n",
    "#         print(diff)\n",
    "        avg.append(np.min(diff))\n",
    "\n",
    "    avg = np.array(avg)\n",
    "    avg = np.min(avg)\n",
    "    return avg\n",
    "\n",
    "\n",
    "# Np = 3\n",
    "avg1 = find_min(dt1)\n",
    "print(avg1)\n",
    "# Np = 5\n",
    "avg2 = find_min(dt2)\n",
    "print(avg2)\n",
    "# Np = 8\n",
    "avg3 = find_min(dt3)\n",
    "print(avg3)\n"
   ]
  }
 ],
 "metadata": {
  "kernelspec": {
   "display_name": "Python 3",
   "language": "python",
   "name": "python3"
  },
  "language_info": {
   "codemirror_mode": {
    "name": "ipython",
    "version": 3
   },
   "file_extension": ".py",
   "mimetype": "text/x-python",
   "name": "python",
   "nbconvert_exporter": "python",
   "pygments_lexer": "ipython3",
   "version": "3.8.10"
  }
 },
 "nbformat": 4,
 "nbformat_minor": 5
}
