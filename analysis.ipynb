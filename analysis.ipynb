{
 "cells": [
  {
   "cell_type": "code",
   "execution_count": 129,
   "id": "f21144c6",
   "metadata": {},
   "outputs": [],
   "source": [
    "import numpy as np\n",
    "import os\n",
    "import re\n",
    "import seaborn as sns \n",
    "import matplotlib.pyplot as plt"
   ]
  },
  {
   "cell_type": "code",
   "execution_count": 130,
   "id": "fa807584",
   "metadata": {},
   "outputs": [],
   "source": [
    "folder1 = 'Log1/'\n",
    "folder2 = 'Log2/'\n",
    "folder3 = 'Log3/'\n",
    "folder4 = 'Log4/'\n",
    "folder5 = 'Log5/'\n",
    "folder6 = 'Log6/'\n",
    "\n",
    "def create_log(folder, num_msg=False):\n",
    "    files = sorted(os.listdir(folder))\n",
    "    dt = {}\n",
    "    for f in files:    \n",
    "        dt[f] = None\n",
    "    \n",
    "    tot_msg = [0]*len(files)\n",
    "    tot_cs = [0]*len(files)\n",
    "    id = -1\n",
    "    for f in files:\n",
    "        id += 1\n",
    "        with open(folder+f) as f1:\n",
    "            # cnt = 0\n",
    "            # cs = 0\n",
    "            lines = f1.readlines()\n",
    "            req = []\n",
    "            recv_token = []\n",
    "            for l in lines:\n",
    "                if num_msg==False:\n",
    "                    if 'want a token' in l:\n",
    "                        req.append(re.split(' |:',l)[:2])\n",
    "                    elif 'got a token' in l:\n",
    "                        recv_token.append(re.split(' |:',l)[:2])\n",
    "                else:\n",
    "                    if 'got a token' in l:\n",
    "                        tot_msg[id] += 1\n",
    "                        tot_cs[id] += 1\n",
    "                    elif 'recieved outstanding request' in l:\n",
    "                        proc_rank = int(re.split(' |:|\\.',l)[11])\n",
    "                        tot_msg[proc_rank] += 1\n",
    "                    \n",
    "            if num_msg==False:\n",
    "                a = np.zeros((len(recv_token),2))\n",
    "                for i in range(len(recv_token)):\n",
    "                    reqt = np.float64(req[i][0]) + np.float64(req[i][1])/60\n",
    "                    recvt = np.float64(recv_token[i][0]) + np.float64(recv_token[i][1])/60\n",
    "                    a[i] = (reqt, recvt)                \n",
    "                dt[f] = a\n",
    "                        \n",
    "            tot_cs[id] += 1\n",
    "                    \n",
    "    if num_msg==False:\n",
    "        return dt\n",
    "    msgs = np.array(tot_msg)/np.array(tot_cs)\n",
    "    # msgs = np.sum(np.array(tot_msg))/np.sum(np.array(tot_cs))\n",
    "    # return tot_msg, tot_cs\n",
    "    return np.sum(msgs)\n",
    "    \n",
    "dt1 = create_log(folder1)\n",
    "dt2 = create_log(folder2)\n",
    "dt3 = create_log(folder3)\n",
    "dt4 = create_log(folder4)\n",
    "dt5 = create_log(folder5)\n",
    "dt6 = create_log(folder6)\n",
    "\n",
    "# arr = []1\n",
    "# time = {\n",
    "#     'name': None,\n",
    "#     'request-time': [],\n",
    "#     'token_recv-time': []\n",
    "# }\n"
   ]
  },
  {
   "cell_type": "code",
   "execution_count": 131,
   "id": "67dd0e78",
   "metadata": {},
   "outputs": [
    {
     "name": "stdout",
     "output_type": "stream",
     "text": [
      "0.045728989813242735\n",
      "0.088040316012071\n",
      "0.19963904326262397\n",
      "0.3803272824813255\n",
      "0.7828419987993631\n",
      "1.0553104575163401\n"
     ]
    }
   ],
   "source": [
    "def find_mean(dt1):\n",
    "    avg = []\n",
    "    for key in dt1:\n",
    "        val = dt1[key]\n",
    "        diff = val[:,1] - val[:,0]\n",
    "        diff_n = []\n",
    "        for d in diff:\n",
    "            if d<0:\n",
    "                diff_n.append(d+60)\n",
    "            else:\n",
    "                diff_n.append(d)\n",
    "            \n",
    "        diff = np.array(diff_n).astype(np.float64)\n",
    "#         print(diff)\n",
    "        avg.append(np.mean(diff))\n",
    "\n",
    "    avg = np.array(avg)\n",
    "    avg = np.mean(avg)\n",
    "    return avg\n",
    "\n",
    "# Np = 2\n",
    "avg1 = find_mean(dt1)\n",
    "print(avg1)\n",
    "# Np = 3\n",
    "avg2 = find_mean(dt2)\n",
    "print(avg2)\n",
    "# Np = 5\n",
    "avg3 = find_mean(dt3)\n",
    "print(avg3)\n",
    "# Np = 8\n",
    "avg4 = find_mean(dt4)\n",
    "print(avg4)\n",
    "# Np = 15\n",
    "avg5 = find_mean(dt5)\n",
    "print(avg5)\n",
    "# Np = 20\n",
    "avg6 = find_mean(dt6)\n",
    "print(avg6)\n"
   ]
  },
  {
   "cell_type": "code",
   "execution_count": 132,
   "id": "99fe12a4",
   "metadata": {},
   "outputs": [
    {
     "name": "stdout",
     "output_type": "stream",
     "text": [
      "0.13333333333333997\n",
      "0.20000000000000284\n",
      "0.28333333333333854\n",
      "0.5166666666666657\n",
      "0.9333333333333336\n",
      "1.25\n"
     ]
    }
   ],
   "source": [
    "def find_max(dt1):\n",
    "    mx = []\n",
    "    for key in dt1:\n",
    "        val = dt1[key]\n",
    "        diff = val[:,1] - val[:,0]\n",
    "        diff_n = []\n",
    "        for d in diff:\n",
    "            if d<0:\n",
    "                diff_n.append(d+60)\n",
    "            else:\n",
    "                diff_n.append(d)\n",
    "            \n",
    "        diff = np.array(diff_n).astype(np.float64)\n",
    "#         print(diff)\n",
    "        mx.append(np.max(diff))\n",
    "\n",
    "    mx = np.array(mx)\n",
    "    mx = np.max(mx)\n",
    "    return mx\n",
    "\n",
    "\n",
    "# Np = 2\n",
    "mx1 = find_max(dt1)\n",
    "print(mx1)\n",
    "# Np = 3\n",
    "mx2 = find_max(dt2)\n",
    "print(mx2)\n",
    "# Np = 5\n",
    "mx3 = find_max(dt3)\n",
    "print(mx3)\n",
    "# Np = 8\n",
    "mx4 = find_max(dt4)\n",
    "print(mx4)\n",
    "# Np = 15\n",
    "mx5 = find_max(dt5)\n",
    "print(mx5)\n",
    "# Np = 20\n",
    "mx6 = find_max(dt6)\n",
    "print(mx6)"
   ]
  },
  {
   "cell_type": "code",
   "execution_count": 133,
   "id": "e3fe5134",
   "metadata": {},
   "outputs": [
    {
     "name": "stdout",
     "output_type": "stream",
     "text": [
      "0.0\n",
      "0.01666666666666572\n",
      "0.016666666666672825\n",
      "0.01666666666666572\n",
      "0.01666666666666572\n",
      "0.05000000000000426\n"
     ]
    }
   ],
   "source": [
    "def find_min(dt1):\n",
    "    mn = []\n",
    "    for key in dt1:\n",
    "        val = dt1[key]\n",
    "        diff = val[:,1] - val[:,0]\n",
    "        diff_n = []\n",
    "        for d in diff:\n",
    "            if d<0:\n",
    "                diff_n.append(d+60)\n",
    "            else:\n",
    "                diff_n.append(d)\n",
    "            \n",
    "        diff = np.array(diff_n).astype(np.float64)\n",
    "#         print(diff)\n",
    "        mn.append(np.min(diff))\n",
    "\n",
    "    mn = np.array(mn)\n",
    "    mn = np.min(mn)\n",
    "    return mn\n",
    "\n",
    "\n",
    "# Np = 2\n",
    "mn1 = find_min(dt1)\n",
    "print(mn1)\n",
    "# Np = 3\n",
    "mn2 = find_min(dt2)\n",
    "print(mn2)\n",
    "# Np = 5\n",
    "mn3 = find_min(dt3)\n",
    "print(mn3)\n",
    "# Np = 8\n",
    "mn4 = find_min(dt4)\n",
    "print(mn4)\n",
    "# Np = 15\n",
    "mn5 = find_min(dt5)\n",
    "print(mn5)\n",
    "# Np = 20\n",
    "mn6 = find_min(dt6)\n",
    "print(mn6)"
   ]
  },
  {
   "cell_type": "code",
   "execution_count": 134,
   "id": "3e549a57",
   "metadata": {},
   "outputs": [
    {
     "name": "stdout",
     "output_type": "stream",
     "text": [
      "3.9839033553569116\n",
      "8.96759020805725\n",
      "24.902911504846486\n",
      "63.73579334760645\n",
      "224.05825647782171\n",
      "398.97142857142865\n"
     ]
    }
   ],
   "source": [
    "# Count number of messages\n",
    "c1 = create_log(folder1, num_msg=True)\n",
    "c2 = create_log(folder2, num_msg=True)\n",
    "c3 = create_log(folder3, num_msg=True)\n",
    "c4 = create_log(folder4, num_msg=True)\n",
    "c5 = create_log(folder5, num_msg=True)\n",
    "c6 = create_log(folder6, num_msg=True)\n",
    "\n",
    "print(c1)\n",
    "print(c2)\n",
    "print(c3)\n",
    "print(c4)\n",
    "print(c5)\n",
    "print(c6)"
   ]
  },
  {
   "cell_type": "code",
   "execution_count": 135,
   "id": "4837c7de",
   "metadata": {},
   "outputs": [
    {
     "data": {
      "text/plain": [
       "Text(0, 0.5, 'Time')"
      ]
     },
     "execution_count": 135,
     "metadata": {},
     "output_type": "execute_result"
    },
    {
     "data": {
      "image/png": "[encoded data removed]",
      "text/plain": [
       "<Figure size 432x288 with 1 Axes>"
      ]
     },
     "metadata": {
      "needs_background": "light"
     },
     "output_type": "display_data"
    }
   ],
   "source": [
    "sns.lineplot(x=[2, 3, 5, 8, 15, 20], y=[mn1, mn2, mn3, mn4, mn5, mn6])\n",
    "sns.lineplot(x=[2, 3, 5, 8, 15, 20], y=[mx1, mx2, mx3, mx4, mx5, mx6])\n",
    "sns.lineplot(x=[2, 3, 5, 8, 15, 20], y=[avg1, avg2, avg3, avg4, avg5, avg6])\n",
    "plt.scatter(x=[2, 3, 5, 8, 15, 20], y=[mn1, mn2, mn3, mn4, mn5, mn6])\n",
    "plt.scatter(x=[2, 3, 5, 8, 15, 20], y=[mx1, mx2, mx3, mx4, mx5, mx6])\n",
    "plt.scatter(x=[2, 3, 5, 8, 15, 20], y=[avg1, avg2, avg3, avg4, avg5, avg6])\n",
    "plt.legend(labels=[\"Min\",\"Max\", \"Mean\"])\n",
    "plt.xlabel(\"Node counts\")\n",
    "plt.ylabel(\"Time\")"
   ]
  },
  {
   "cell_type": "code",
   "execution_count": 136,
   "id": "f65b3f3c",
   "metadata": {},
   "outputs": [
    {
     "data": {
      "text/plain": [
       "Text(0, 0.5, 'Time')"
      ]
     },
     "execution_count": 136,
     "metadata": {},
     "output_type": "execute_result"
    },
    {
     "data": {
      "image/png": "[encoded data removed]",
      "text/plain": [
       "<Figure size 432x288 with 1 Axes>"
      ]
     },
     "metadata": {
      "needs_background": "light"
     },
     "output_type": "display_data"
    }
   ],
   "source": [
    "sns.lineplot(x=[2, 3, 5, 8, 15, 20], y=[mn1, mn2, mn3, mn4, mn5, mn6])\n",
    "plt.scatter(x=[2, 3, 5, 8, 15, 20], y=[mn1, mn2, mn3, mn4, mn5, mn6])\n",
    "plt.legend(labels=[\"Min\"])\n",
    "plt.xlabel(\"Node counts\")\n",
    "plt.ylabel(\"Time\")"
   ]
  },
  {
   "cell_type": "code",
   "execution_count": 137,
   "id": "ae6a3060",
   "metadata": {},
   "outputs": [
    {
     "data": {
      "text/plain": [
       "Text(0, 0.5, 'Time')"
      ]
     },
     "execution_count": 137,
     "metadata": {},
     "output_type": "execute_result"
    },
    {
     "data": {
      "image/png": "[encoded data removed]",
      "text/plain": [
       "<Figure size 432x288 with 1 Axes>"
      ]
     },
     "metadata": {
      "needs_background": "light"
     },
     "output_type": "display_data"
    }
   ],
   "source": [
    "sns.lineplot(x=[2, 3, 5, 8, 15, 20], y=[mx1, mx2, mx3, mx4, mx5, mx6])\n",
    "plt.scatter(x=[2, 3, 5, 8, 15, 20], y=[mx1, mx2, mx3, mx4, mx5, mx6])\n",
    "plt.legend(labels=[\"Max\"])\n",
    "plt.xlabel(\"Node counts\")\n",
    "plt.ylabel(\"Time\")"
   ]
  },
  {
   "cell_type": "code",
   "execution_count": 138,
   "id": "8e6558b3",
   "metadata": {},
   "outputs": [
    {
     "data": {
      "text/plain": [
       "Text(0, 0.5, 'Time')"
      ]
     },
     "execution_count": 138,
     "metadata": {},
     "output_type": "execute_result"
    },
    {
     "data": {
      "image/png": "[encoded data removed]",
      "text/plain": [
       "<Figure size 432x288 with 1 Axes>"
      ]
     },
     "metadata": {
      "needs_background": "light"
     },
     "output_type": "display_data"
    }
   ],
   "source": [
    "sns.lineplot(x=[2, 3, 5, 8, 15, 20], y=[avg1, avg2, avg3, avg4, avg5, avg6])\n",
    "plt.scatter(x=[2, 3, 5, 8, 15, 20], y=[avg1, avg2, avg3, avg4, avg5, avg6])\n",
    "plt.legend(labels=[ \"Mean\"])\n",
    "plt.xlabel(\"Node counts\")\n",
    "plt.ylabel(\"Time\")"
   ]
  },
  {
   "cell_type": "code",
   "execution_count": 174,
   "id": "c7f7599c",
   "metadata": {},
   "outputs": [
    {
     "data": {
      "text/plain": [
       "Text(0, 0.5, 'Messages')"
      ]
     },
     "execution_count": 174,
     "metadata": {},
     "output_type": "execute_result"
    },
    {
     "data": {
      "image/png": "[encoded data removed]",
      "text/plain": [
       "<Figure size 720x576 with 1 Axes>"
      ]
     },
     "metadata": {
      "needs_background": "light"
     },
     "output_type": "display_data"
    }
   ],
   "source": [
    "plt.figure(figsize=(10,8))\n",
    "sns.lineplot(x=[2, 3, 5, 8, 15, 20], y=[c1, c2, c3, c4, c5, c6], color='green')\n",
    "plt.scatter(x=[2, 3, 5, 8, 15, 20], y=[c1, c2, c3, c4, c5, c6], color='coral')\n",
    "plt.legend(labels=[\"Number of messages\"])\n",
    "plt.xlabel(\"Node counts\")\n",
    "plt.ylabel(\"Messages\")"
   ]
  }
 ],
 "metadata": {
  "kernelspec": {
   "display_name": "Python 3",
   "language": "python",
   "name": "python3"
  },
  "language_info": {
   "codemirror_mode": {
    "name": "ipython",
    "version": 3
   },
   "file_extension": ".py",
   "mimetype": "text/x-python",
   "name": "python",
   "nbconvert_exporter": "python",
   "pygments_lexer": "ipython3",
   "version": "3.6.9"
  }
 },
 "nbformat": 4,
 "nbformat_minor": 5
}
