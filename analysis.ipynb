{
 "cells": [
  {
   "cell_type": "code",
   "execution_count": 12,
   "id": "f21144c6",
   "metadata": {},
   "outputs": [],
   "source": [
    "import numpy as np\n",
    "import os\n",
    "import re\n",
    "import seaborn as sns \n",
    "import matplotlib.pyplot as plt"
   ]
  },
  {
   "cell_type": "code",
   "execution_count": 2,
   "id": "fa807584",
   "metadata": {},
   "outputs": [],
   "source": [
    "folder = 'Log/'\n",
    "folder1 = 'Log1/'\n",
    "folder2 = 'Log2/'\n",
    "folder3 = 'Log3/'\n",
    "folder4 = 'Log5/'\n",
    "\n",
    "files = sorted(os.listdir(folder))\n",
    "\n",
    "def create_log(folder):\n",
    "    files = sorted(os.listdir(folder))\n",
    "    dt = {}\n",
    "    for f in files:    \n",
    "        dt[f] = None\n",
    "    \n",
    "    for f in files:\n",
    "        with open(folder+f) as f1:\n",
    "            lines = f1.readlines()\n",
    "            req = []\n",
    "            recv_token = []\n",
    "            for l in lines:\n",
    "                if 'want a token' in l:\n",
    "                    req.append(re.split(' |:',l)[:2])\n",
    "                elif 'got a token' in l:\n",
    "                    recv_token.append(re.split(' |:',l)[:2])\n",
    "                    \n",
    "            a = np.zeros((len(recv_token),2))\n",
    "            for i in range(len(recv_token)):\n",
    "                reqt = np.float64(req[i][0]) + np.float64(req[i][1])/60\n",
    "                recvt = np.float64(recv_token[i][0]) + np.float64(recv_token[i][1])/60\n",
    "                a[i] = (reqt, recvt)\n",
    "                \n",
    "            dt[f] = a\n",
    "                    \n",
    "    return dt\n",
    "    \n"
   ]
  },
  {
   "cell_type": "code",
   "execution_count": 3,
   "id": "5affae70",
   "metadata": {},
   "outputs": [],
   "source": [
    "dt1 = create_log(folder)\n"
   ]
  },
  {
   "cell_type": "code",
   "execution_count": 4,
   "id": "ecee0a0c",
   "metadata": {},
   "outputs": [],
   "source": [
    "dt2 = create_log(folder1)\n"
   ]
  },
  {
   "cell_type": "code",
   "execution_count": 5,
   "id": "1f99c7dd",
   "metadata": {},
   "outputs": [],
   "source": [
    "dt3 = create_log(folder2)\n",
    "\n"
   ]
  },
  {
   "cell_type": "code",
   "execution_count": 6,
   "id": "9d65186e",
   "metadata": {},
   "outputs": [],
   "source": [
    "dt4 = create_log(folder3)"
   ]
  },
  {
   "cell_type": "code",
   "execution_count": 7,
   "id": "5fe81693",
   "metadata": {},
   "outputs": [],
   "source": [
    "dt5 = create_log(folder4)"
   ]
  },
  {
   "cell_type": "code",
   "execution_count": 18,
   "id": "67dd0e78",
   "metadata": {},
   "outputs": [
    {
     "name": "stdout",
     "output_type": "stream",
     "text": [
      "0.08696589523914657\n",
      "0.20407999431656704\n",
      "0.3659964225589226\n",
      "0.7768228031953526\n",
      "1.0694601806239736\n"
     ]
    }
   ],
   "source": [
    "def find_mean(dt1):\n",
    "    avg = []\n",
    "    for key in dt1:\n",
    "        val = dt1[key]\n",
    "        diff = val[:,1] - val[:,0]\n",
    "        diff_n = []\n",
    "        for d in diff:\n",
    "            if d<0:\n",
    "                diff_n.append(d+60)\n",
    "            else:\n",
    "                diff_n.append(d)\n",
    "            \n",
    "        diff = np.array(diff_n).astype(np.float64)\n",
    "#         print(diff)\n",
    "        avg.append(np.mean(diff))\n",
    "\n",
    "    avg = np.array(avg)\n",
    "    avg = np.mean(avg)\n",
    "    return avg\n",
    "\n",
    "\n",
    "# Np = 3\n",
    "avg1 = find_mean(dt1)\n",
    "print(avg1)\n",
    "# Np = 5\n",
    "avg2 = find_mean(dt2)\n",
    "print(avg2)\n",
    "# Np = 8\n",
    "avg3 = find_mean(dt3)\n",
    "print(avg3)\n",
    "# Np = 15\n",
    "avg4 = find_mean(dt4)\n",
    "print(avg4)\n",
    "# Np = 20\n",
    "avg5 = find_mean(dt5)\n",
    "print(avg5)\n"
   ]
  },
  {
   "cell_type": "code",
   "execution_count": 19,
   "id": "99fe12a4",
   "metadata": {},
   "outputs": [
    {
     "name": "stdout",
     "output_type": "stream",
     "text": [
      "0.21666666666666146\n",
      "0.2833333333333332\n",
      "0.46666666666666856\n",
      "0.9500000000000028\n",
      "1.25\n"
     ]
    }
   ],
   "source": [
    "def find_max(dt1):\n",
    "    avg = []\n",
    "    for key in dt1:\n",
    "        val = dt1[key]\n",
    "        diff = val[:,1] - val[:,0]\n",
    "        diff_n = []\n",
    "        for d in diff:\n",
    "            if d<0:\n",
    "                diff_n.append(d+60)\n",
    "            else:\n",
    "                diff_n.append(d)\n",
    "            \n",
    "        diff = np.array(diff_n).astype(np.float64)\n",
    "#         print(diff)\n",
    "        avg.append(np.max(diff))\n",
    "\n",
    "    avg = np.array(avg)\n",
    "    avg = np.max(avg)\n",
    "    return avg\n",
    "\n",
    "\n",
    "# Np = 3\n",
    "mx1 = find_max(dt1)\n",
    "print(mx1)\n",
    "# Np = 5\n",
    "mx2 = find_max(dt2)\n",
    "print(mx2)\n",
    "# Np = 8\n",
    "mx3 = find_max(dt3)\n",
    "print(mx3)\n",
    "# Np = 15\n",
    "mx4 = find_max(dt4)\n",
    "print(mx4)\n",
    "# Np = 20\n",
    "mx5 = find_max(dt5)\n",
    "print(mx5)\n"
   ]
  },
  {
   "cell_type": "code",
   "execution_count": 20,
   "id": "e3fe5134",
   "metadata": {},
   "outputs": [
    {
     "name": "stdout",
     "output_type": "stream",
     "text": [
      "0.01666666666666572\n",
      "0.04999999999999716\n",
      "0.06666666666666643\n",
      "0.01666666666666572\n",
      "0.03333333333333144\n"
     ]
    }
   ],
   "source": [
    "def find_min(dt1):\n",
    "    avg = []\n",
    "    for key in dt1:\n",
    "        val = dt1[key]\n",
    "        diff = val[:,1] - val[:,0]\n",
    "        diff_n = []\n",
    "        for d in diff:\n",
    "            if d<0:\n",
    "                diff_n.append(d+60)\n",
    "            else:\n",
    "                diff_n.append(d)\n",
    "            \n",
    "        diff = np.array(diff_n).astype(np.float64)\n",
    "#         print(diff)\n",
    "        avg.append(np.min(diff))\n",
    "\n",
    "    avg = np.array(avg)\n",
    "    avg = np.min(avg)\n",
    "    return avg\n",
    "\n",
    "\n",
    "# Np = 3\n",
    "mn1 = find_min(dt1)\n",
    "print(mn1)\n",
    "# Np = 5\n",
    "mn2 = find_min(dt2)\n",
    "print(mn2)\n",
    "# Np = 8\n",
    "mn3 = find_min(dt3)\n",
    "print(mn3)\n",
    "\n",
    "# Np = 15\n",
    "mn4 = find_min(dt4)\n",
    "print(mn4)\n",
    "\n",
    "# Np = 20\n",
    "mn5 = find_min(dt5)\n",
    "print(mn5)\n"
   ]
  },
  {
   "cell_type": "code",
   "execution_count": 25,
   "id": "9d800ebf",
   "metadata": {},
   "outputs": [
    {
     "data": {
      "text/plain": [
       "Text(0, 0.5, 'Time')"
      ]
     },
     "execution_count": 25,
     "metadata": {},
     "output_type": "execute_result"
    },
    {
     "data": {
      "image/png": "[encoded data removed]",
      "text/plain": [
       "<Figure size 432x288 with 1 Axes>"
      ]
     },
     "metadata": {
      "needs_background": "light"
     },
     "output_type": "display_data"
    }
   ],
   "source": [
    "sns.lineplot(x=[3, 5, 8, 15, 20], y=[mn1, mn2, mn3, mn4, mn5])\n",
    "sns.lineplot(x=[3, 5, 8, 15, 20], y=[mx1, mx2, mx3, mx4, mx5])\n",
    "sns.lineplot(x=[3, 5, 8, 15, 20], y=[avg1, avg2, avg3, avg4, avg5])\n",
    "plt.scatter(x=[3, 5, 8, 15, 20], y=[mn1, mn2, mn3, mn4, mn5])\n",
    "plt.scatter(x=[3, 5, 8, 15, 20], y=[mx1, mx2, mx3, mx4, mx5])\n",
    "plt.scatter(x=[3, 5, 8, 15, 20], y=[avg1, avg2, avg3, avg4, avg5])\n",
    "plt.legend(labels=[\"Min\",\"Max\", \"Mean\"])\n",
    "plt.xlabel(\"Node counts\")\n",
    "plt.ylabel(\"Time\")"
   ]
  },
  {
   "cell_type": "code",
   "execution_count": 26,
   "id": "0399ce27",
   "metadata": {},
   "outputs": [
    {
     "data": {
      "text/plain": [
       "Text(0, 0.5, 'Time')"
      ]
     },
     "execution_count": 26,
     "metadata": {},
     "output_type": "execute_result"
    },
    {
     "data": {
      "image/png": "[encoded data removed]",
      "text/plain": [
       "<Figure size 432x288 with 1 Axes>"
      ]
     },
     "metadata": {
      "needs_background": "light"
     },
     "output_type": "display_data"
    }
   ],
   "source": [
    "sns.lineplot(x=[3, 5, 8, 15, 20], y=[mn1, mn2, mn3, mn4, mn5])\n",
    "plt.scatter(x=[3, 5, 8, 15, 20], y=[mn1, mn2, mn3, mn4, mn5])\n",
    "plt.legend(labels=[\"Min\"])\n",
    "plt.xlabel(\"Node counts\")\n",
    "plt.ylabel(\"Time\")"
   ]
  },
  {
   "cell_type": "code",
   "execution_count": 30,
   "id": "69a2b77d",
   "metadata": {},
   "outputs": [
    {
     "data": {
      "text/plain": [
       "Text(0, 0.5, 'Time')"
      ]
     },
     "execution_count": 30,
     "metadata": {},
     "output_type": "execute_result"
    },
    {
     "data": {
      "image/png": "[encoded data removed]",
      "text/plain": [
       "<Figure size 432x288 with 1 Axes>"
      ]
     },
     "metadata": {
      "needs_background": "light"
     },
     "output_type": "display_data"
    }
   ],
   "source": [
    "\n",
    "sns.lineplot(x=[3, 5, 8, 15, 20], y=[mx1, mx2, mx3, mx4, mx5])\n",
    "plt.scatter(x=[3, 5, 8, 15, 20], y=[mx1, mx2, mx3, mx4, mx5])\n",
    "plt.legend(labels=[\"Max\"])\n",
    "plt.xlabel(\"Node counts\")\n",
    "plt.ylabel(\"Time\")"
   ]
  },
  {
   "cell_type": "code",
   "execution_count": 28,
   "id": "ecc57110",
   "metadata": {},
   "outputs": [
    {
     "data": {
      "text/plain": [
       "Text(0, 0.5, 'Time')"
      ]
     },
     "execution_count": 28,
     "metadata": {},
     "output_type": "execute_result"
    },
    {
     "data": {
      "image/png": "[encoded data removed]",
      "text/plain": [
       "<Figure size 432x288 with 1 Axes>"
      ]
     },
     "metadata": {
      "needs_background": "light"
     },
     "output_type": "display_data"
    }
   ],
   "source": [
    "\n",
    "sns.lineplot(x=[3, 5, 8, 15, 20], y=[avg1, avg2, avg3, avg4, avg5])\n",
    "plt.scatter(x=[3, 5, 8, 15, 20], y=[avg1, avg2, avg3, avg4, avg5])\n",
    "plt.legend(labels=[ \"Mean\"])\n",
    "plt.xlabel(\"Node counts\")\n",
    "plt.ylabel(\"Time\")"
   ]
  },
  {
   "cell_type": "code",
   "execution_count": null,
   "id": "06e3f146",
   "metadata": {},
   "outputs": [],
   "source": []
  }
 ],
 "metadata": {
  "kernelspec": {
   "display_name": "Python 3",
   "language": "python",
   "name": "python3"
  },
  "language_info": {
   "codemirror_mode": {
    "name": "ipython",
    "version": 3
   },
   "file_extension": ".py",
   "mimetype": "text/x-python",
   "name": "python",
   "nbconvert_exporter": "python",
   "pygments_lexer": "ipython3",
   "version": "3.9.1"
  }
 },
 "nbformat": 4,
 "nbformat_minor": 5
}
